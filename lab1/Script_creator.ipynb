{
 "cells": [
  {
   "cell_type": "code",
   "execution_count": 22,
   "id": "e7a26f43",
   "metadata": {},
   "outputs": [],
   "source": [
    "import numpy as np"
   ]
  },
  {
   "cell_type": "code",
   "execution_count": 23,
   "id": "ff0232e9",
   "metadata": {},
   "outputs": [],
   "source": [
    "cb=np.asarray([1,2,3,4,5,6])\n",
    "thickness=np.asarray([10,20,30,40,50,60,70,80,90,100,110,120,130,140,150])"
   ]
  },
  {
   "cell_type": "code",
   "execution_count": 24,
   "id": "b5be5acf",
   "metadata": {},
   "outputs": [],
   "source": [
    "INPfilelst=[]\n",
    "outfilelst=[]\n",
    "for j in range(cb.shape[0]):\n",
    "    for k in range(thickness.shape[0]):\n",
    "        INPfilename='UVSPEC_REPTRAN_THERMAL_cb'+str(cb[j])+'_t'+str(thickness[k])+'.INP'\n",
    "        \n",
    "        INPfile=open(INPfilename,'w')\n",
    "        \n",
    "        cloudfilename='WCSIMPLE_cb'+str(cb[j])+'_t'+str(thickness[k])+'.dat'\n",
    "        \n",
    "        INPfile.write('rte_solver disort \\n')\n",
    "        INPfile.write('atmosphere_file /sw/libRadtran-2.0.4/share/libRadtran/data/atmmod/afglus.dat \\n')\n",
    "        \n",
    "        INPfile.write('wc_file 1D /data/keeling/a/kheimes2/ATMS411Lab1/'+cloudfilename+' \\n')\n",
    "        #INPfile.write('wc_modify tau set 0.51. \\n')\n",
    "        \n",
    "        INPfile.write('output_quantity brightness  \\n')\n",
    "        INPfile.write('albedo 0 \\n')\n",
    "        INPfile.write('source thermal \\n')\n",
    "        INPfile.write('wavelength 11100 11100 \\n')\n",
    "        INPfile.write('zout TOA \\n')\n",
    "        INPfile.write('umu 0.1 \\n')\n",
    "        INPfile.write('phi 0 \\n')\n",
    "        INPfile.write('output_user lambda uu \\n')\n",
    "        INPfile.write('quiet \\n')\n",
    "        \n",
    "        INPfile.close()\n",
    "        \n",
    "        cloudfile=open(cloudfilename,'w')\n",
    "        \n",
    "        cloudfile.write('#     Alt    LWC   R_eff \\n#     (km)  (g/m^3) (um) \\n')\n",
    "        \n",
    "        cbval=str(cb[j])\n",
    "        tval=thickness[k]\n",
    "        levels=np.flip(np.arange(0,(tval+10)/1000,.01))\n",
    "        \n",
    "        for n in range(levels.shape[0]):\n",
    "            val=cb[j]+levels[n]\n",
    "            levelval=str(val)\n",
    "            cloudfile.write('      '+levelval+'   0.2   10\\n')\n",
    "            \n",
    "        \n",
    "        cloudfile.close()\n",
    "        \n",
    "        INPfilelst.append(INPfilename)"
   ]
  }
 ],
 "metadata": {
  "kernelspec": {
   "display_name": "Python 3 (ipykernel)",
   "language": "python",
   "name": "python3"
  },
  "language_info": {
   "codemirror_mode": {
    "name": "ipython",
    "version": 3
   },
   "file_extension": ".py",
   "mimetype": "text/x-python",
   "name": "python",
   "nbconvert_exporter": "python",
   "pygments_lexer": "ipython3",
   "version": "3.9.5"
  }
 },
 "nbformat": 4,
 "nbformat_minor": 5
}
